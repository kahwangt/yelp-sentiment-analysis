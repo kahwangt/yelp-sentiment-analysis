{
 "cells": [
  {
   "cell_type": "code",
   "execution_count": 3,
   "metadata": {},
   "outputs": [
    {
     "name": "stdout",
     "output_type": "stream",
     "text": [
      "\n",
      "H2O is not running yet, starting it now...\n",
      "\n",
      "Note:  In case of errors look at the following log files:\n",
      "    C:\\Users\\ktan0032\\AppData\\Local\\Temp\\Rtmp6zSJ2Q/h2o_ktan0032_started_from_r.out\n",
      "    C:\\Users\\ktan0032\\AppData\\Local\\Temp\\Rtmp6zSJ2Q/h2o_ktan0032_started_from_r.err\n",
      "\n",
      "\n",
      "Starting H2O JVM and connecting:  Connection successful!\n",
      "\n",
      "R is connected to the H2O cluster: \n",
      "    H2O cluster uptime:         1 seconds 264 milliseconds \n",
      "    H2O cluster timezone:       Australia/Sydney \n",
      "    H2O data parsing timezone:  UTC \n",
      "    H2O cluster version:        3.22.1.1 \n",
      "    H2O cluster version age:    5 months and 5 days !!! \n",
      "    H2O cluster name:           H2O_started_from_R_ktan0032_olg259 \n",
      "    H2O cluster total nodes:    1 \n",
      "    H2O cluster total memory:   14.22 GB \n",
      "    H2O cluster total cores:    6 \n",
      "    H2O cluster allowed cores:  6 \n",
      "    H2O cluster healthy:        TRUE \n",
      "    H2O Connection ip:          localhost \n",
      "    H2O Connection port:        54321 \n",
      "    H2O Connection proxy:       NA \n",
      "    H2O Internal Security:      FALSE \n",
      "    H2O API Extensions:         Algos, AutoML, Core V3, Core V4 \n",
      "    R Version:                  R version 3.6.0 (2019-04-26) \n",
      "\n"
     ]
    }
   ],
   "source": [
    "options(warn=-1)\n",
    "library(h2o)\n",
    "localH2O =  h2o.init(nthreads = -1, port = 54321, max_mem_size ='16G', startH2O = TRUE)"
   ]
  },
  {
   "cell_type": "markdown",
   "metadata": {},
   "source": [
    "## Feature Set 1"
   ]
  },
  {
   "cell_type": "code",
   "execution_count": 4,
   "metadata": {},
   "outputs": [
    {
     "name": "stdout",
     "output_type": "stream",
     "text": [
      "  |======================================================================| 100%\n"
     ]
    }
   ],
   "source": [
    "# load in training data\n",
    "train_data <- h2o.importFile(path = './feature_set_1.csv', header=TRUE, sep=\",\")"
   ]
  },
  {
   "cell_type": "code",
   "execution_count": 7,
   "metadata": {},
   "outputs": [
    {
     "data": {
      "text/html": [
       "<ol class=list-inline>\n",
       "\t<li>199978</li>\n",
       "\t<li>2289</li>\n",
       "</ol>\n"
      ],
      "text/latex": [
       "\\begin{enumerate*}\n",
       "\\item 199978\n",
       "\\item 2289\n",
       "\\end{enumerate*}\n"
      ],
      "text/markdown": [
       "1. 199978\n",
       "2. 2289\n",
       "\n",
       "\n"
      ],
      "text/plain": [
       "[1] 199978   2289"
      ]
     },
     "metadata": {},
     "output_type": "display_data"
    }
   ],
   "source": [
    "# remove first column\n",
    "train_data <- train_data[,-1]\n",
    "dim(train_data)"
   ]
  },
  {
   "cell_type": "code",
   "execution_count": 9,
   "metadata": {},
   "outputs": [],
   "source": [
    "# set names\n",
    "response <- 'label'\n",
    "train_data[[response]] <-as.factor(train_data[[response]])\n",
    "predictors <- setdiff(names(train_data), c(response, \"name\"))"
   ]
  },
  {
   "cell_type": "code",
   "execution_count": 10,
   "metadata": {},
   "outputs": [],
   "source": [
    "# split data into 90% training 10% validation\n",
    "splits <- h2o.splitFrame(\n",
    "  data = train_data, \n",
    "  ratios = 0.9,\n",
    "  destination_frames = c(\"train.hex\", \"valid.hex\"), seed = 123\n",
    ")\n",
    "\n",
    "train <- splits[[1]]\n",
    "valid <-splits[[2]]"
   ]
  },
  {
   "cell_type": "code",
   "execution_count": 22,
   "metadata": {},
   "outputs": [
    {
     "name": "stdout",
     "output_type": "stream",
     "text": [
      "  |======================================================================| 100%\n"
     ]
    }
   ],
   "source": [
    "baseglm <- h2o.glm(\n",
    "    training_frame = train,\n",
    "    validation_frame = valid,\n",
    "    x = predictors,\n",
    "    y = response,\n",
    "    family = 'multinomial',\n",
    "    solver = 'L_BFGS',\n",
    "    seed = 123)"
   ]
  },
  {
   "cell_type": "code",
   "execution_count": 23,
   "metadata": {},
   "outputs": [
    {
     "name": "stdout",
     "output_type": "stream",
     "text": [
      "Model Details:\n",
      "==============\n",
      "\n",
      "H2OMultinomialModel: glm\n",
      "Model Key:  GLM_model_R_1559465286597_5 \n",
      "GLM Model: summary\n",
      "       family        link              regularization\n",
      "1 multinomial multinomial Ridge ( lambda = 9.338E-5 )\n",
      "  number_of_predictors_total number_of_active_predictors number_of_iterations\n",
      "1                      11440                       11435                   29\n",
      "  training_frame\n",
      "1      train.hex\n",
      "\n",
      "H2OMultinomialMetrics: glm\n",
      "** Reported on training data. **\n",
      "\n",
      "Training Set Metrics: \n",
      "=====================\n",
      "\n",
      "Extract training frame with `h2o.getFrame(\"train.hex\")`\n",
      "MSE: (Extract with `h2o.mse`) 0.3174066\n",
      "RMSE: (Extract with `h2o.rmse`) 0.5633885\n",
      "Logloss: (Extract with `h2o.logloss`) 0.9085108\n",
      "Mean Per-Class Error: 0.3769112\n",
      "Null Deviance: (Extract with `h2o.nulldeviance`) 578750\n",
      "Residual Deviance: (Extract with `h2o.residual_deviance`) 326698.7\n",
      "R^2: (Extract with `h2o.r2`) 0.8414433\n",
      "AIC: (Extract with `h2o.aic`) NaN\n",
      "Confusion Matrix: Extract with `h2o.confusionMatrix(<model>,train = TRUE)`)\n",
      "=========================================================================\n",
      "Confusion Matrix: Row labels: Actual class; Column labels: Predicted class\n",
      "           1     2     3     4     5  Error               Rate\n",
      "1      28107  5875  1153   329   612 0.2209 =   7,969 / 36,076\n",
      "2       8024 18727  7078  1370   760 0.4792 =  17,232 / 35,959\n",
      "3       1877  6857 18224  7232  1678 0.4919 =  17,644 / 35,868\n",
      "4        515  1182  5794 19183  9298 0.4667 =  16,789 / 35,972\n",
      "5        475   428  1059  6150 27812 0.2258 =   8,112 / 35,924\n",
      "Totals 38998 33069 33308 34264 40160 0.3768 = 67,746 / 179,799\n",
      "\n",
      "Hit Ratio Table: Extract with `h2o.hit_ratio_table(<model>,train = TRUE)`\n",
      "=======================================================================\n",
      "Top-5 Hit Ratios: \n",
      "  k hit_ratio\n",
      "1 1  0.623213\n",
      "2 2  0.879682\n",
      "3 3  0.963804\n",
      "4 4  0.990478\n",
      "5 5  1.000000\n",
      "\n",
      "\n",
      "H2OMultinomialMetrics: glm\n",
      "** Reported on validation data. **\n",
      "\n",
      "Validation Set Metrics: \n",
      "=====================\n",
      "\n",
      "Extract validation frame with `h2o.getFrame(\"valid.hex\")`\n",
      "MSE: (Extract with `h2o.mse`) 0.3338674\n",
      "RMSE: (Extract with `h2o.rmse`) 0.5778126\n",
      "Logloss: (Extract with `h2o.logloss`) 0.9711534\n",
      "Mean Per-Class Error: 0.3962459\n",
      "Null Deviance: (Extract with `h2o.nulldeviance`) 64955.08\n",
      "Residual Deviance: (Extract with `h2o.residual_deviance`) 39193.81\n",
      "R^2: (Extract with `h2o.r2`) 0.8316889\n",
      "AIC: (Extract with `h2o.aic`) NaN\n",
      "Confusion Matrix: Extract with `h2o.confusionMatrix(<model>,valid = TRUE)`)\n",
      "=========================================================================\n",
      "Confusion Matrix: Row labels: Actual class; Column labels: Predicted class\n",
      "          1    2    3    4    5  Error             Rate\n",
      "1      2997  673  142   40   68 0.2355 =    923 / 3,920\n",
      "2       893 2009  888  166   79 0.5021 =  2,026 / 4,035\n",
      "3       244  834 1996  850  205 0.5166 =  2,133 / 4,129\n",
      "4        56  134  689 2041 1101 0.4924 =  1,980 / 4,021\n",
      "5        64   33  111  748 3118 0.2347 =    956 / 4,074\n",
      "Totals 4254 3683 3826 3845 4571 0.3973 = 8,018 / 20,179\n",
      "\n",
      "Hit Ratio Table: Extract with `h2o.hit_ratio_table(<model>,valid = TRUE)`\n",
      "=======================================================================\n",
      "Top-5 Hit Ratios: \n",
      "  k hit_ratio\n",
      "1 1  0.602656\n",
      "2 2  0.870063\n",
      "3 3  0.960603\n",
      "4 4  0.988453\n",
      "5 5  1.000000\n",
      "\n",
      "\n",
      "\n",
      "\n",
      "Scoring History: \n",
      "            timestamp   duration iterations negative_log_likelihood objective\n",
      "1 2019-06-02 18:57:57  0.000 sec          0            289375.00250   1.60944\n",
      "2 2019-06-02 18:57:57  0.133 sec          1            228468.33387   1.27072\n",
      "3 2019-06-02 18:57:57  0.240 sec          2            197128.41377   1.09646\n",
      "4 2019-06-02 18:57:57  0.294 sec          3            187533.49583   1.04314\n",
      "5 2019-06-02 18:57:57  0.402 sec          4            179793.40806   1.00017\n",
      "\n",
      "---\n",
      "             timestamp   duration iterations negative_log_likelihood objective\n",
      "25 2019-06-02 18:57:59  2.598 sec         24            163484.73005   0.90987\n",
      "26 2019-06-02 18:57:59  2.778 sec         25            163451.77719   0.90968\n",
      "27 2019-06-02 18:57:59  2.888 sec         26            163413.75809   0.90946\n",
      "28 2019-06-02 18:58:00  3.064 sec         27            163389.32707   0.90934\n",
      "29 2019-06-02 18:58:00  3.195 sec         28            163362.50290   0.90919\n",
      "30 2019-06-02 18:58:00  3.304 sec         29            163349.32509   0.90912\n",
      "\n",
      "Variable Importances: (Extract with `h2o.varimp`) \n",
      "=================================================\n",
      "\n",
      "Standardized Coefficient Magnitudes: standardized coefficient magnitudes\n",
      "      names coefficients sign\n",
      "1     great     1.499354  POS\n",
      "2       not     1.425941  POS\n",
      "3 delicious     1.119712  POS\n",
      "4      good     1.071525  POS\n",
      "5   amazing     1.023340  POS\n",
      "\n",
      "---\n",
      "         names coefficients sign\n",
      "2283   seafood     0.009797  POS\n",
      "2284  research     0.008784  POS\n",
      "2285     basil     0.008169  POS\n",
      "2286 tortillas     0.006849  POS\n",
      "2287     booth     0.005596  POS\n",
      "2288                     NA   NA\n"
     ]
    }
   ],
   "source": [
    "summary(baseglm)"
   ]
  },
  {
   "cell_type": "code",
   "execution_count": 25,
   "metadata": {},
   "outputs": [
    {
     "data": {
      "text/html": [
       "<table>\n",
       "<caption>A H2OTable: 6 × 7</caption>\n",
       "<thead>\n",
       "\t<tr><th></th><th scope=col>1</th><th scope=col>2</th><th scope=col>3</th><th scope=col>4</th><th scope=col>5</th><th scope=col>Error</th><th scope=col>Rate</th></tr>\n",
       "\t<tr><th></th><th scope=col>&lt;dbl&gt;</th><th scope=col>&lt;dbl&gt;</th><th scope=col>&lt;dbl&gt;</th><th scope=col>&lt;dbl&gt;</th><th scope=col>&lt;dbl&gt;</th><th scope=col>&lt;dbl&gt;</th><th scope=col>&lt;chr&gt;</th></tr>\n",
       "</thead>\n",
       "<tbody>\n",
       "\t<tr><th scope=row>1</th><td>2997</td><td> 673</td><td> 142</td><td>  40</td><td>  68</td><td>0.2354592</td><td>923 / 3,920   </td></tr>\n",
       "\t<tr><th scope=row>2</th><td> 893</td><td>2009</td><td> 888</td><td> 166</td><td>  79</td><td>0.5021066</td><td>2,026 / 4,035 </td></tr>\n",
       "\t<tr><th scope=row>3</th><td> 244</td><td> 834</td><td>1996</td><td> 850</td><td> 205</td><td>0.5165900</td><td>2,133 / 4,129 </td></tr>\n",
       "\t<tr><th scope=row>4</th><td>  56</td><td> 134</td><td> 689</td><td>2041</td><td>1101</td><td>0.4924148</td><td>1,980 / 4,021 </td></tr>\n",
       "\t<tr><th scope=row>5</th><td>  64</td><td>  33</td><td> 111</td><td> 748</td><td>3118</td><td>0.2346588</td><td>956 / 4,074   </td></tr>\n",
       "\t<tr><th scope=row>Totals</th><td>4254</td><td>3683</td><td>3826</td><td>3845</td><td>4571</td><td>0.3973438</td><td>8,018 / 20,179</td></tr>\n",
       "</tbody>\n",
       "</table>\n"
      ],
      "text/latex": [
       "A H2OTable: 6 × 7\n",
       "\\begin{tabular}{r|lllllll}\n",
       "  & 1 & 2 & 3 & 4 & 5 & Error & Rate\\\\\n",
       "  & <dbl> & <dbl> & <dbl> & <dbl> & <dbl> & <dbl> & <chr>\\\\\n",
       "\\hline\n",
       "\t1 & 2997 &  673 &  142 &   40 &   68 & 0.2354592 & 923 / 3,920   \\\\\n",
       "\t2 &  893 & 2009 &  888 &  166 &   79 & 0.5021066 & 2,026 / 4,035 \\\\\n",
       "\t3 &  244 &  834 & 1996 &  850 &  205 & 0.5165900 & 2,133 / 4,129 \\\\\n",
       "\t4 &   56 &  134 &  689 & 2041 & 1101 & 0.4924148 & 1,980 / 4,021 \\\\\n",
       "\t5 &   64 &   33 &  111 &  748 & 3118 & 0.2346588 & 956 / 4,074   \\\\\n",
       "\tTotals & 4254 & 3683 & 3826 & 3845 & 4571 & 0.3973438 & 8,018 / 20,179\\\\\n",
       "\\end{tabular}\n"
      ],
      "text/markdown": [
       "\n",
       "A H2OTable: 6 × 7\n",
       "\n",
       "| <!--/--> | 1 &lt;dbl&gt; | 2 &lt;dbl&gt; | 3 &lt;dbl&gt; | 4 &lt;dbl&gt; | 5 &lt;dbl&gt; | Error &lt;dbl&gt; | Rate &lt;chr&gt; |\n",
       "|---|---|---|---|---|---|---|---|\n",
       "| 1 | 2997 |  673 |  142 |   40 |   68 | 0.2354592 | 923 / 3,920    |\n",
       "| 2 |  893 | 2009 |  888 |  166 |   79 | 0.5021066 | 2,026 / 4,035  |\n",
       "| 3 |  244 |  834 | 1996 |  850 |  205 | 0.5165900 | 2,133 / 4,129  |\n",
       "| 4 |   56 |  134 |  689 | 2041 | 1101 | 0.4924148 | 1,980 / 4,021  |\n",
       "| 5 |   64 |   33 |  111 |  748 | 3118 | 0.2346588 | 956 / 4,074    |\n",
       "| Totals | 4254 | 3683 | 3826 | 3845 | 4571 | 0.3973438 | 8,018 / 20,179 |\n",
       "\n"
      ],
      "text/plain": [
       "       1    2    3    4    5    Error     Rate          \n",
       "1      2997  673  142   40   68 0.2354592 923 / 3,920   \n",
       "2       893 2009  888  166   79 0.5021066 2,026 / 4,035 \n",
       "3       244  834 1996  850  205 0.5165900 2,133 / 4,129 \n",
       "4        56  134  689 2041 1101 0.4924148 1,980 / 4,021 \n",
       "5        64   33  111  748 3118 0.2346588 956 / 4,074   \n",
       "Totals 4254 3683 3826 3845 4571 0.3973438 8,018 / 20,179"
      ]
     },
     "metadata": {},
     "output_type": "display_data"
    }
   ],
   "source": [
    "h2o.confusionMatrix(baseglm, valid=TRUE)"
   ]
  },
  {
   "cell_type": "markdown",
   "metadata": {},
   "source": [
    "## Feature Set 2"
   ]
  },
  {
   "cell_type": "code",
   "execution_count": 26,
   "metadata": {},
   "outputs": [
    {
     "name": "stdout",
     "output_type": "stream",
     "text": [
      "  |======================================================================| 100%\n"
     ]
    }
   ],
   "source": [
    "# load in training data\n",
    "train_data <- h2o.importFile(path = './feature_set_2.csv', header=TRUE, sep=\",\")"
   ]
  },
  {
   "cell_type": "code",
   "execution_count": 28,
   "metadata": {},
   "outputs": [
    {
     "data": {
      "text/html": [
       "<ol class=list-inline>\n",
       "\t<li>199978</li>\n",
       "\t<li>2339</li>\n",
       "</ol>\n"
      ],
      "text/latex": [
       "\\begin{enumerate*}\n",
       "\\item 199978\n",
       "\\item 2339\n",
       "\\end{enumerate*}\n"
      ],
      "text/markdown": [
       "1. 199978\n",
       "2. 2339\n",
       "\n",
       "\n"
      ],
      "text/plain": [
       "[1] 199978   2339"
      ]
     },
     "metadata": {},
     "output_type": "display_data"
    }
   ],
   "source": [
    "# remove first column\n",
    "train_data <- train_data[,-1]\n",
    "dim(train_data)"
   ]
  },
  {
   "cell_type": "code",
   "execution_count": 30,
   "metadata": {},
   "outputs": [],
   "source": [
    "# set names\n",
    "response <- 'label'\n",
    "train_data[[response]] <-as.factor(train_data[[response]])\n",
    "predictors <- setdiff(names(train_data), c(response, \"name\"))"
   ]
  },
  {
   "cell_type": "code",
   "execution_count": 31,
   "metadata": {},
   "outputs": [],
   "source": [
    "# split data into 90% training 10% validation\n",
    "splits <- h2o.splitFrame(\n",
    "  data = train_data, \n",
    "  ratios = 0.9,\n",
    "  destination_frames = c(\"train.hex\", \"valid.hex\"), seed = 123\n",
    ")\n",
    "\n",
    "train <- splits[[1]]\n",
    "valid <-splits[[2]]"
   ]
  },
  {
   "cell_type": "code",
   "execution_count": 39,
   "metadata": {},
   "outputs": [
    {
     "name": "stdout",
     "output_type": "stream",
     "text": [
      "  |======================================================================| 100%\n"
     ]
    }
   ],
   "source": [
    "baseglm2 <- h2o.glm(\n",
    "    training_frame = train,\n",
    "    validation_frame = valid,\n",
    "    x = predictors,\n",
    "    y = response,\n",
    "    family = 'multinomial',\n",
    "    solver = 'L_BFGS',\n",
    "    seed = 123)"
   ]
  },
  {
   "cell_type": "code",
   "execution_count": 40,
   "metadata": {},
   "outputs": [
    {
     "name": "stdout",
     "output_type": "stream",
     "text": [
      "Model Details:\n",
      "==============\n",
      "\n",
      "H2OMultinomialModel: glm\n",
      "Model Key:  GLM_model_R_1559465286597_10 \n",
      "GLM Model: summary\n",
      "       family        link              regularization\n",
      "1 multinomial multinomial Ridge ( lambda = 9.338E-5 )\n",
      "  number_of_predictors_total number_of_active_predictors number_of_iterations\n",
      "1                      11690                       11685                   30\n",
      "  training_frame\n",
      "1      train.hex\n",
      "\n",
      "H2OMultinomialMetrics: glm\n",
      "** Reported on training data. **\n",
      "\n",
      "Training Set Metrics: \n",
      "=====================\n",
      "\n",
      "Extract training frame with `h2o.getFrame(\"train.hex\")`\n",
      "MSE: (Extract with `h2o.mse`) 0.3170392\n",
      "RMSE: (Extract with `h2o.rmse`) 0.5630623\n",
      "Logloss: (Extract with `h2o.logloss`) 0.9075319\n",
      "Mean Per-Class Error: 0.37611\n",
      "Null Deviance: (Extract with `h2o.nulldeviance`) 578750\n",
      "Residual Deviance: (Extract with `h2o.residual_deviance`) 326346.7\n",
      "R^2: (Extract with `h2o.r2`) 0.8416269\n",
      "AIC: (Extract with `h2o.aic`) NaN\n",
      "Confusion Matrix: Extract with `h2o.confusionMatrix(<model>,train = TRUE)`)\n",
      "=========================================================================\n",
      "Confusion Matrix: Row labels: Actual class; Column labels: Predicted class\n",
      "           1     2     3     4     5  Error               Rate\n",
      "1      28111  5876  1149   331   609 0.2208 =   7,965 / 36,076\n",
      "2       8004 18699  7128  1385   743 0.4800 =  17,260 / 35,959\n",
      "3       1856  6820 18330  7221  1641 0.4890 =  17,538 / 35,868\n",
      "4        503  1187  5802 19371  9109 0.4615 =  16,601 / 35,972\n",
      "5        469   434  1064  6271 27686 0.2293 =   8,238 / 35,924\n",
      "Totals 38943 33016 33473 34579 39788 0.3760 = 67,602 / 179,799\n",
      "\n",
      "Hit Ratio Table: Extract with `h2o.hit_ratio_table(<model>,train = TRUE)`\n",
      "=======================================================================\n",
      "Top-5 Hit Ratios: \n",
      "  k hit_ratio\n",
      "1 1  0.624013\n",
      "2 2  0.879638\n",
      "3 3  0.963938\n",
      "4 4  0.990612\n",
      "5 5  1.000000\n",
      "\n",
      "\n",
      "H2OMultinomialMetrics: glm\n",
      "** Reported on validation data. **\n",
      "\n",
      "Validation Set Metrics: \n",
      "=====================\n",
      "\n",
      "Extract validation frame with `h2o.getFrame(\"valid.hex\")`\n",
      "MSE: (Extract with `h2o.mse`) 0.3339748\n",
      "RMSE: (Extract with `h2o.rmse`) 0.5779055\n",
      "Logloss: (Extract with `h2o.logloss`) 0.9718406\n",
      "Mean Per-Class Error: 0.396793\n",
      "Null Deviance: (Extract with `h2o.nulldeviance`) 64955.08\n",
      "Residual Deviance: (Extract with `h2o.residual_deviance`) 39221.54\n",
      "R^2: (Extract with `h2o.r2`) 0.8316347\n",
      "AIC: (Extract with `h2o.aic`) NaN\n",
      "Confusion Matrix: Extract with `h2o.confusionMatrix(<model>,valid = TRUE)`)\n",
      "=========================================================================\n",
      "Confusion Matrix: Row labels: Actual class; Column labels: Predicted class\n",
      "          1    2    3    4    5  Error             Rate\n",
      "1      2993  684  136   41   66 0.2365 =    927 / 3,920\n",
      "2       887 2009  895  170   74 0.5021 =  2,026 / 4,035\n",
      "3       238  835 2001  854  201 0.5154 =  2,128 / 4,129\n",
      "4        53  132  695 2047 1094 0.4909 =  1,974 / 4,021\n",
      "5        61   36  113  764 3100 0.2391 =    974 / 4,074\n",
      "Totals 4232 3696 3840 3876 4535 0.3979 = 8,029 / 20,179\n",
      "\n",
      "Hit Ratio Table: Extract with `h2o.hit_ratio_table(<model>,valid = TRUE)`\n",
      "=======================================================================\n",
      "Top-5 Hit Ratios: \n",
      "  k hit_ratio\n",
      "1 1  0.602111\n",
      "2 2  0.870212\n",
      "3 3  0.960751\n",
      "4 4  0.988305\n",
      "5 5  1.000000\n",
      "\n",
      "\n",
      "\n",
      "\n",
      "Scoring History: \n",
      "            timestamp   duration iterations negative_log_likelihood objective\n",
      "1 2019-06-02 19:03:26  0.000 sec          0            289375.00250   1.60944\n",
      "2 2019-06-02 19:03:26  0.143 sec          1            228258.93283   1.26955\n",
      "3 2019-06-02 19:03:26  0.281 sec          2            197042.22291   1.09598\n",
      "4 2019-06-02 19:03:26  0.347 sec          3            187446.97211   1.04266\n",
      "5 2019-06-02 19:03:27  0.480 sec          4            179708.40937   0.99970\n",
      "\n",
      "---\n",
      "             timestamp   duration iterations negative_log_likelihood objective\n",
      "26 2019-06-02 19:03:29  2.551 sec         25            163299.54120   0.90883\n",
      "27 2019-06-02 19:03:29  2.660 sec         26            163264.30174   0.90863\n",
      "28 2019-06-02 19:03:29  2.772 sec         27            163235.80246   0.90848\n",
      "29 2019-06-02 19:03:29  2.881 sec         28            163205.77733   0.90832\n",
      "30 2019-06-02 19:03:29  2.992 sec         29            163186.01641   0.90821\n",
      "31 2019-06-02 19:03:29  3.103 sec         30            163173.32794   0.90814\n",
      "\n",
      "Variable Importances: (Extract with `h2o.varimp`) \n",
      "=================================================\n",
      "\n",
      "Standardized Coefficient Magnitudes: standardized coefficient magnitudes\n",
      "      names coefficients sign\n",
      "1     great     1.505028  POS\n",
      "2       not     1.434564  POS\n",
      "3 delicious     1.128315  POS\n",
      "4      good     1.077178  POS\n",
      "5   amazing     1.026956  POS\n",
      "\n",
      "---\n",
      "         names coefficients sign\n",
      "2333   seafood     0.009955  POS\n",
      "2334  research     0.008855  POS\n",
      "2335 tortillas     0.007850  POS\n",
      "2336     basil     0.007588  POS\n",
      "2337     booth     0.005435  POS\n",
      "2338                     NA   NA\n"
     ]
    }
   ],
   "source": [
    "summary(baseglm2)"
   ]
  },
  {
   "cell_type": "code",
   "execution_count": 41,
   "metadata": {},
   "outputs": [
    {
     "data": {
      "text/html": [
       "<table>\n",
       "<caption>A H2OTable: 6 × 7</caption>\n",
       "<thead>\n",
       "\t<tr><th></th><th scope=col>1</th><th scope=col>2</th><th scope=col>3</th><th scope=col>4</th><th scope=col>5</th><th scope=col>Error</th><th scope=col>Rate</th></tr>\n",
       "\t<tr><th></th><th scope=col>&lt;dbl&gt;</th><th scope=col>&lt;dbl&gt;</th><th scope=col>&lt;dbl&gt;</th><th scope=col>&lt;dbl&gt;</th><th scope=col>&lt;dbl&gt;</th><th scope=col>&lt;dbl&gt;</th><th scope=col>&lt;chr&gt;</th></tr>\n",
       "</thead>\n",
       "<tbody>\n",
       "\t<tr><th scope=row>1</th><td>2993</td><td> 684</td><td> 136</td><td>  41</td><td>  66</td><td>0.2364796</td><td>927 / 3,920   </td></tr>\n",
       "\t<tr><th scope=row>2</th><td> 887</td><td>2009</td><td> 895</td><td> 170</td><td>  74</td><td>0.5021066</td><td>2,026 / 4,035 </td></tr>\n",
       "\t<tr><th scope=row>3</th><td> 238</td><td> 835</td><td>2001</td><td> 854</td><td> 201</td><td>0.5153790</td><td>2,128 / 4,129 </td></tr>\n",
       "\t<tr><th scope=row>4</th><td>  53</td><td> 132</td><td> 695</td><td>2047</td><td>1094</td><td>0.4909227</td><td>1,974 / 4,021 </td></tr>\n",
       "\t<tr><th scope=row>5</th><td>  61</td><td>  36</td><td> 113</td><td> 764</td><td>3100</td><td>0.2390771</td><td>974 / 4,074   </td></tr>\n",
       "\t<tr><th scope=row>Totals</th><td>4232</td><td>3696</td><td>3840</td><td>3876</td><td>4535</td><td>0.3978889</td><td>8,029 / 20,179</td></tr>\n",
       "</tbody>\n",
       "</table>\n"
      ],
      "text/latex": [
       "A H2OTable: 6 × 7\n",
       "\\begin{tabular}{r|lllllll}\n",
       "  & 1 & 2 & 3 & 4 & 5 & Error & Rate\\\\\n",
       "  & <dbl> & <dbl> & <dbl> & <dbl> & <dbl> & <dbl> & <chr>\\\\\n",
       "\\hline\n",
       "\t1 & 2993 &  684 &  136 &   41 &   66 & 0.2364796 & 927 / 3,920   \\\\\n",
       "\t2 &  887 & 2009 &  895 &  170 &   74 & 0.5021066 & 2,026 / 4,035 \\\\\n",
       "\t3 &  238 &  835 & 2001 &  854 &  201 & 0.5153790 & 2,128 / 4,129 \\\\\n",
       "\t4 &   53 &  132 &  695 & 2047 & 1094 & 0.4909227 & 1,974 / 4,021 \\\\\n",
       "\t5 &   61 &   36 &  113 &  764 & 3100 & 0.2390771 & 974 / 4,074   \\\\\n",
       "\tTotals & 4232 & 3696 & 3840 & 3876 & 4535 & 0.3978889 & 8,029 / 20,179\\\\\n",
       "\\end{tabular}\n"
      ],
      "text/markdown": [
       "\n",
       "A H2OTable: 6 × 7\n",
       "\n",
       "| <!--/--> | 1 &lt;dbl&gt; | 2 &lt;dbl&gt; | 3 &lt;dbl&gt; | 4 &lt;dbl&gt; | 5 &lt;dbl&gt; | Error &lt;dbl&gt; | Rate &lt;chr&gt; |\n",
       "|---|---|---|---|---|---|---|---|\n",
       "| 1 | 2993 |  684 |  136 |   41 |   66 | 0.2364796 | 927 / 3,920    |\n",
       "| 2 |  887 | 2009 |  895 |  170 |   74 | 0.5021066 | 2,026 / 4,035  |\n",
       "| 3 |  238 |  835 | 2001 |  854 |  201 | 0.5153790 | 2,128 / 4,129  |\n",
       "| 4 |   53 |  132 |  695 | 2047 | 1094 | 0.4909227 | 1,974 / 4,021  |\n",
       "| 5 |   61 |   36 |  113 |  764 | 3100 | 0.2390771 | 974 / 4,074    |\n",
       "| Totals | 4232 | 3696 | 3840 | 3876 | 4535 | 0.3978889 | 8,029 / 20,179 |\n",
       "\n"
      ],
      "text/plain": [
       "       1    2    3    4    5    Error     Rate          \n",
       "1      2993  684  136   41   66 0.2364796 927 / 3,920   \n",
       "2       887 2009  895  170   74 0.5021066 2,026 / 4,035 \n",
       "3       238  835 2001  854  201 0.5153790 2,128 / 4,129 \n",
       "4        53  132  695 2047 1094 0.4909227 1,974 / 4,021 \n",
       "5        61   36  113  764 3100 0.2390771 974 / 4,074   \n",
       "Totals 4232 3696 3840 3876 4535 0.3978889 8,029 / 20,179"
      ]
     },
     "metadata": {},
     "output_type": "display_data"
    }
   ],
   "source": [
    "h2o.confusionMatrix(baseglm2, valid=TRUE)"
   ]
  },
  {
   "cell_type": "code",
   "execution_count": null,
   "metadata": {},
   "outputs": [],
   "source": []
  },
  {
   "cell_type": "markdown",
   "metadata": {},
   "source": [
    "## Test Predictions"
   ]
  },
  {
   "cell_type": "code",
   "execution_count": 42,
   "metadata": {},
   "outputs": [],
   "source": [
    "feature_set_1 <- read.csv(\"./featureset1final.csv\", header=TRUE, sep=' ')"
   ]
  },
  {
   "cell_type": "code",
   "execution_count": 44,
   "metadata": {},
   "outputs": [
    {
     "name": "stderr",
     "output_type": "stream",
     "text": [
      "\n",
      "Attaching package: 'dplyr'\n",
      "\n",
      "The following objects are masked from 'package:stats':\n",
      "\n",
      "    filter, lag\n",
      "\n",
      "The following objects are masked from 'package:base':\n",
      "\n",
      "    intersect, setdiff, setequal, union\n",
      "\n",
      "Registered S3 methods overwritten by 'ggplot2':\n",
      "  method         from \n",
      "  [.quosures     rlang\n",
      "  c.quosures     rlang\n",
      "  print.quosures rlang\n",
      "-- \u001b[1mAttaching packages\u001b[22m --------------------------------------- tidyverse 1.2.1 --\n",
      "\u001b[32mv\u001b[39m \u001b[34mggplot2\u001b[39m 3.1.1     \u001b[32mv\u001b[39m \u001b[34mpurrr  \u001b[39m 0.3.2\n",
      "\u001b[32mv\u001b[39m \u001b[34mtidyr  \u001b[39m 0.8.3     \u001b[32mv\u001b[39m \u001b[34mstringr\u001b[39m 1.4.0\n",
      "\u001b[32mv\u001b[39m \u001b[34mreadr  \u001b[39m 1.3.1     \u001b[32mv\u001b[39m \u001b[34mforcats\u001b[39m 0.4.0\n",
      "-- \u001b[1mConflicts\u001b[22m ------------------------------------------ tidyverse_conflicts() --\n",
      "\u001b[31mx\u001b[39m \u001b[34mdplyr\u001b[39m::\u001b[32mfilter()\u001b[39m masks \u001b[34mstats\u001b[39m::filter()\n",
      "\u001b[31mx\u001b[39m \u001b[34mdplyr\u001b[39m::\u001b[32mlag()\u001b[39m    masks \u001b[34mstats\u001b[39m::lag()\n",
      "Loading required package: NLP\n",
      "\n",
      "Attaching package: 'NLP'\n",
      "\n",
      "The following object is masked from 'package:ggplot2':\n",
      "\n",
      "    annotate\n",
      "\n"
     ]
    }
   ],
   "source": [
    "library(dplyr)\n",
    "library(tibble)\n",
    "library(tidytext)\n",
    "library(tidyverse)\n",
    "library(tm)\n",
    "# load in testing data\n",
    "real_test_data <- read.csv(file=\"./test_data.csv\", header=TRUE, sep=\",\" ,stringsAsFactors = FALSE)\n",
    "# store test_id in a variable for ease of output\n",
    "testing_id <- real_test_data$test_id\n",
    "# convert to tibble format\n",
    "real_test_data <- tibble('doc_id'=1:nrow(real_test_data), 'text'=real_test_data$text)\n",
    "\n",
    "# function to generate testing dataset in a matrix based on the training tokens used in the model\n",
    "testdata_processor <- function(training_tokens){\n",
    "    # using unnest_tokens in tidytext library to get all tokens in testing dataset\n",
    "    all_test_unigrams <- real_test_data %>% unnest_tokens(word, text, strip_punct = FALSE)\n",
    "    # using unnest_tokens in tidytext library to get all bigrams in testing dataset\n",
    "    all_test_bigrams <- real_test_data %>% unnest_tokens(word, text, token = \"ngrams\", n = 2)\n",
    "    # combine both unigrams and bigrams\n",
    "    all_test_tokens <- rbind(all_test_unigrams, all_test_bigrams)\n",
    "    \n",
    "    # filter all_test_tokens to just those used in the training dataset\n",
    "    test_tokens <- all_test_tokens  %>% semi_join(training_tokens)\n",
    "    \n",
    "    # get the tokens list that are in training data but not testing data\n",
    "    empty_tokens <- unique((training_tokens %>% anti_join(test_tokens))$word)\n",
    "    # get the doc_id of those testing dataset that contains 0 training tokens\n",
    "    empty_docs <- unique(anti_join(all_test_tokens, test_tokens, by='doc_id')$doc_id)\n",
    "\n",
    "    # convert to document term matrix using tm library\n",
    "    pre_tdm_test <- test_tokens %>% group_by(doc_id,word) %>% summarise(count = n())\n",
    "    dtm_test <- pre_tdm_test %>% cast_tdm(doc_id,word,count)\n",
    "\n",
    "    # convert it into a matrix\n",
    "    doc_matrix_test <- as.matrix(dtm_test)\n",
    "\n",
    "    # insert rows of all zeroes into doc_matrix_test for those documents with empty tokens\n",
    "    for (each in empty_docs){\n",
    "        empty_matrix = matrix(0, ncol = ncol(doc_matrix_test))\n",
    "        temp_matrix_1 = doc_matrix_test[1:each-1,]\n",
    "        temp_matrix_2 = doc_matrix_test[each:nrow(doc_matrix_test),]\n",
    "        doc_matrix_test = rbind(temp_matrix_1, empty_matrix, temp_matrix_2)\n",
    "    }\n",
    "    \n",
    "    # insert columns of all zeroes into doc_matrix_test for those tokens in training but not testing\n",
    "    for (each in empty_tokens){\n",
    "        empty_matrix = matrix(0, nrow = nrow(doc_matrix_test))\n",
    "        colnames(empty_matrix) = each\n",
    "        doc_matrix_test = cbind(doc_matrix_test, empty_matrix)\n",
    "    }\n",
    "    \n",
    "    # use check.names to convert column names into readable format and store result as dataframe\n",
    "    doc_matrix_test <- data.frame(doc_matrix_test, check.names=TRUE)\n",
    "    \n",
    "    return (doc_matrix_test)\n",
    "}"
   ]
  },
  {
   "cell_type": "code",
   "execution_count": 45,
   "metadata": {},
   "outputs": [
    {
     "name": "stderr",
     "output_type": "stream",
     "text": [
      "Joining, by = \"word\"\n",
      "Joining, by = \"word\"\n"
     ]
    }
   ],
   "source": [
    "testing <- testdata_processor(feature_set_1)"
   ]
  },
  {
   "cell_type": "code",
   "execution_count": null,
   "metadata": {},
   "outputs": [],
   "source": [
    "testing <- as.h2o(testing)"
   ]
  },
  {
   "cell_type": "code",
   "execution_count": 46,
   "metadata": {},
   "outputs": [
    {
     "name": "stdout",
     "output_type": "stream",
     "text": [
      "  |======================================================================| 100%\n",
      "  |======================================================================| 100%\n"
     ]
    }
   ],
   "source": [
    "glmpred <-h2o.predict(baseglm, testing)# for glm\n",
    "\n",
    "final.pred <- as.vector(glmpred$predict)\n",
    "\n",
    "test.predictions <- data.frame(test_id = testing_id, label = as.integer(final.pred))         "
   ]
  },
  {
   "cell_type": "code",
   "execution_count": 49,
   "metadata": {},
   "outputs": [],
   "source": [
    "write.csv(test.predictions, './predict_glm.csv', row.names=FALSE, quote = FALSE)"
   ]
  },
  {
   "cell_type": "code",
   "execution_count": 50,
   "metadata": {},
   "outputs": [
    {
     "name": "stdout",
     "output_type": "stream",
     "text": [
      "  |======================================================================| 100%\n"
     ]
    }
   ],
   "source": [
    "glmpred <-h2o.predict(baseglm2, testing)# for glm\n",
    "\n",
    "final.pred <- as.vector(glmpred$predict)\n",
    "\n",
    "test.predictions <- data.frame(test_id = testing_id, label = as.integer(final.pred))   "
   ]
  },
  {
   "cell_type": "code",
   "execution_count": 51,
   "metadata": {},
   "outputs": [],
   "source": [
    "write.csv(test.predictions, './predict_glmset2.csv', row.names=FALSE, quote = FALSE)"
   ]
  }
 ],
 "metadata": {
  "kernelspec": {
   "display_name": "R",
   "language": "R",
   "name": "ir"
  },
  "language_info": {
   "codemirror_mode": "r",
   "file_extension": ".r",
   "mimetype": "text/x-r-source",
   "name": "R",
   "pygments_lexer": "r",
   "version": "3.6.0"
  }
 },
 "nbformat": 4,
 "nbformat_minor": 2
}
