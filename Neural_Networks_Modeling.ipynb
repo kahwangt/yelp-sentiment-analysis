{
 "cells": [
  {
   "cell_type": "code",
   "execution_count": 1,
   "metadata": {},
   "outputs": [],
   "source": [
    "# http://docs.h2o.ai/h2o/latest-stable/h2o-docs/data-science/glm.html\n",
    "# https://www.h2o.ai/blog/hyperparameter-optimization-in-h2o-grid-search-random-search-and-the-future/"
   ]
  },
  {
   "cell_type": "code",
   "execution_count": 2,
   "metadata": {},
   "outputs": [
    {
     "name": "stderr",
     "output_type": "stream",
     "text": [
      "\n",
      "----------------------------------------------------------------------\n",
      "\n",
      "Your next step is to start H2O:\n",
      "    > h2o.init()\n",
      "\n",
      "For H2O package documentation, ask for help:\n",
      "    > ??h2o\n",
      "\n",
      "After starting H2O, you can use the Web UI at http://localhost:54321\n",
      "For more information visit http://docs.h2o.ai\n",
      "\n",
      "----------------------------------------------------------------------\n",
      "\n",
      "\n",
      "Attaching package: 'h2o'\n",
      "\n",
      "The following objects are masked from 'package:stats':\n",
      "\n",
      "    cor, sd, var\n",
      "\n",
      "The following objects are masked from 'package:base':\n",
      "\n",
      "    %*%, %in%, &&, ||, apply, as.factor, as.numeric, colnames,\n",
      "    colnames<-, ifelse, is.character, is.factor, is.numeric, log,\n",
      "    log10, log1p, log2, round, signif, trunc\n",
      "\n"
     ]
    },
    {
     "name": "stdout",
     "output_type": "stream",
     "text": [
      "\n",
      "H2O is not running yet, starting it now...\n",
      "\n",
      "Note:  In case of errors look at the following log files:\n",
      "    C:\\Users\\Cameron\\AppData\\Local\\Temp\\RtmpaS2Cw6/h2o_Cameron_started_from_r.out\n",
      "    C:\\Users\\Cameron\\AppData\\Local\\Temp\\RtmpaS2Cw6/h2o_Cameron_started_from_r.err\n",
      "\n",
      "\n",
      "Starting H2O JVM and connecting: . Connection successful!\n",
      "\n",
      "R is connected to the H2O cluster: \n",
      "    H2O cluster uptime:         5 seconds 244 milliseconds \n",
      "    H2O cluster timezone:       Australia/Sydney \n",
      "    H2O data parsing timezone:  UTC \n",
      "    H2O cluster version:        3.22.1.1 \n",
      "    H2O cluster version age:    5 months and 4 days !!! \n",
      "    H2O cluster name:           H2O_started_from_R_Cameron_cnu632 \n",
      "    H2O cluster total nodes:    1 \n",
      "    H2O cluster total memory:   14.22 GB \n",
      "    H2O cluster total cores:    8 \n",
      "    H2O cluster allowed cores:  8 \n",
      "    H2O cluster healthy:        TRUE \n",
      "    H2O Connection ip:          localhost \n",
      "    H2O Connection port:        54321 \n",
      "    H2O Connection proxy:       NA \n",
      "    H2O Internal Security:      FALSE \n",
      "    H2O API Extensions:         Algos, AutoML, Core V3, Core V4 \n",
      "    R Version:                  R version 3.5.3 (2019-03-11) \n",
      "\n"
     ]
    }
   ],
   "source": [
    "options(warn=-1)\n",
    "library(h2o)\n",
    "localH2O =  h2o.init(nthreads = -1, port = 54321, max_mem_size ='16G', startH2O = TRUE)"
   ]
  },
  {
   "cell_type": "markdown",
   "metadata": {},
   "source": [
    "## Feature Set 1"
   ]
  },
  {
   "cell_type": "code",
   "execution_count": 3,
   "metadata": {},
   "outputs": [
    {
     "name": "stdout",
     "output_type": "stream",
     "text": [
      "  |======================================================================| 100%\n"
     ]
    }
   ],
   "source": [
    "# load in training data\n",
    "train_data <- h2o.importFile(path = './feature_set_1.csv', header=TRUE, sep=\",\")"
   ]
  },
  {
   "cell_type": "code",
   "execution_count": 4,
   "metadata": {},
   "outputs": [
    {
     "data": {
      "text/html": [
       "<ol class=list-inline>\n",
       "\t<li>199973</li>\n",
       "\t<li>2281</li>\n",
       "</ol>\n"
      ],
      "text/latex": [
       "\\begin{enumerate*}\n",
       "\\item 199973\n",
       "\\item 2281\n",
       "\\end{enumerate*}\n"
      ],
      "text/markdown": [
       "1. 199973\n",
       "2. 2281\n",
       "\n",
       "\n"
      ],
      "text/plain": [
       "[1] 199973   2281"
      ]
     },
     "metadata": {},
     "output_type": "display_data"
    }
   ],
   "source": [
    "# remove first column\n",
    "train_data <- train_data[,-1]\n",
    "dim(train_data)"
   ]
  },
  {
   "cell_type": "code",
   "execution_count": 5,
   "metadata": {},
   "outputs": [],
   "source": [
    "# set names\n",
    "response <- 'label'\n",
    "train_data[[response]] <-as.factor(train_data[[response]])\n",
    "predictors <- setdiff(names(train_data), c(response, \"name\"))"
   ]
  },
  {
   "cell_type": "code",
   "execution_count": 6,
   "metadata": {},
   "outputs": [],
   "source": [
    "# split data into 90% training 10% validation\n",
    "splits <- h2o.splitFrame(\n",
    "  data = train_data, \n",
    "  ratios = 0.9,\n",
    "  destination_frames = c(\"train.hex\", \"valid.hex\"), seed = 123\n",
    ")\n",
    "\n",
    "train <- splits[[1]]\n",
    "valid <-splits[[2]]"
   ]
  },
  {
   "cell_type": "code",
   "execution_count": 7,
   "metadata": {},
   "outputs": [],
   "source": [
    "# set names for glm\n",
    "y='label'\n",
    "x=names(train)\n",
    "x=x[-which(x==y)]"
   ]
  },
  {
   "cell_type": "code",
   "execution_count": null,
   "metadata": {},
   "outputs": [
    {
     "name": "stdout",
     "output_type": "stream",
     "text": [
      "\r",
      "  |                                                                            \r",
      "  |                                                                      |   0%"
     ]
    }
   ],
   "source": [
    "# default glm with lambda 0 and alpha ignored\n",
    "baseNN = h2o.deeplearning(\n",
    "    training_frame = train, \n",
    "    validation_frame = valid,\n",
    "    x = x, y = y,\n",
    "    hidden=c(2048,2048,2048),\n",
    "    epochs = 10000,\n",
    "    rate=0.01,\n",
    "    l1=1e-5,\n",
    "    max_w2=10,\n",
    "    score_validation_samples=10000,      ## sample the validation dataset (faster)\n",
    "    stopping_rounds=2,\n",
    "    stopping_metric=\"logloss\", ## could be \"MSE\",\"logloss\",\"r2\"\n",
    "    stopping_tolerance=0.01\n",
    ")"
   ]
  },
  {
   "cell_type": "code",
   "execution_count": null,
   "metadata": {},
   "outputs": [],
   "source": [
    "# training error 40.20, validation error 40.56\n",
    "summary(baseNN)"
   ]
  },
  {
   "cell_type": "code",
   "execution_count": null,
   "metadata": {},
   "outputs": [],
   "source": [
    "h2o.confusionMatrix(baseNN, valid=TRUE)"
   ]
  },
  {
   "cell_type": "markdown",
   "metadata": {},
   "source": [
    "## Feature Set 2"
   ]
  },
  {
   "cell_type": "code",
   "execution_count": null,
   "metadata": {},
   "outputs": [],
   "source": [
    "# load in training data\n",
    "train_data <- h2o.importFile(path = './feature_set_2.csv', header=TRUE, sep=\",\")"
   ]
  },
  {
   "cell_type": "code",
   "execution_count": null,
   "metadata": {},
   "outputs": [],
   "source": [
    "# remove first column\n",
    "train_data <- train_data[,-1]\n",
    "dim(train_data)"
   ]
  },
  {
   "cell_type": "code",
   "execution_count": null,
   "metadata": {},
   "outputs": [],
   "source": [
    "# set names\n",
    "response <- 'label'\n",
    "train_data[[response]] <-as.factor(train_data[[response]])\n",
    "predictors <- setdiff(names(train_data), c(response, \"name\"))"
   ]
  },
  {
   "cell_type": "code",
   "execution_count": null,
   "metadata": {},
   "outputs": [],
   "source": [
    "# split data into 90% training 10% validation\n",
    "splits <- h2o.splitFrame(\n",
    "  data = train_data, \n",
    "  ratios = 0.9,\n",
    "  destination_frames = c(\"train.hex\", \"valid.hex\"), seed = 123\n",
    ")\n",
    "\n",
    "train <- splits[[1]]\n",
    "valid <-splits[[2]]"
   ]
  },
  {
   "cell_type": "code",
   "execution_count": null,
   "metadata": {},
   "outputs": [],
   "source": [
    "# set names for glm\n",
    "y='label'\n",
    "x=names(train)\n",
    "x=x[-which(x==y)]"
   ]
  },
  {
   "cell_type": "code",
   "execution_count": null,
   "metadata": {},
   "outputs": [],
   "source": [
    "# default glm with lambda 0 and alpha ignored\n",
    "baseNN2 = h2o.deeplearning(\n",
    "    training_frame = train, \n",
    "    validation_frame = valid,\n",
    "    x = x, y = y,\n",
    "    hidden=c(2048,2048,2048),\n",
    "    epochs = 10000,\n",
    "    rate=0.01,\n",
    "    l1=1e-5,\n",
    "    max_w2=10,\n",
    "    score_validation_samples=10000,      ## sample the validation dataset (faster)\n",
    "    stopping_rounds=2,\n",
    "    stopping_metric=\"logloss\", ## could be \"MSE\",\"logloss\",\"r2\"\n",
    "    stopping_tolerance=0.01\n",
    ")"
   ]
  },
  {
   "cell_type": "code",
   "execution_count": null,
   "metadata": {},
   "outputs": [],
   "source": [
    "summary(baseNN2)"
   ]
  },
  {
   "cell_type": "code",
   "execution_count": null,
   "metadata": {},
   "outputs": [],
   "source": [
    "h2o.confusionMatrix(baseNN2, valid=TRUE)"
   ]
  },
  {
   "cell_type": "markdown",
   "metadata": {},
   "source": [
    "## Test Predictions"
   ]
  },
  {
   "cell_type": "code",
   "execution_count": 19,
   "metadata": {},
   "outputs": [],
   "source": [
    "test_tokens_1 <- read.csv(file='./test_feature_set_1.csv', header=TRUE, sep=' ')"
   ]
  },
  {
   "cell_type": "code",
   "execution_count": 20,
   "metadata": {},
   "outputs": [
    {
     "data": {
      "text/html": [
       "<ol class=list-inline>\n",
       "\t<li>50001</li>\n",
       "\t<li>2564</li>\n",
       "</ol>\n"
      ],
      "text/latex": [
       "\\begin{enumerate*}\n",
       "\\item 50001\n",
       "\\item 2564\n",
       "\\end{enumerate*}\n"
      ],
      "text/markdown": [
       "1. 50001\n",
       "2. 2564\n",
       "\n",
       "\n"
      ],
      "text/plain": [
       "[1] 50001  2564"
      ]
     },
     "metadata": {},
     "output_type": "display_data"
    }
   ],
   "source": [
    "dim(test_tokens_1)"
   ]
  },
  {
   "cell_type": "code",
   "execution_count": 21,
   "metadata": {},
   "outputs": [],
   "source": [
    "#test_data <- test_tokens_1[2:50001,]"
   ]
  },
  {
   "cell_type": "code",
   "execution_count": 22,
   "metadata": {},
   "outputs": [
    {
     "name": "stdout",
     "output_type": "stream",
     "text": [
      "  |======================================================================| 100%\n"
     ]
    }
   ],
   "source": [
    "pred <- h2o.predict(baseNN, test_data)\n",
    "final.pred<-as.vector(pred$predict)"
   ]
  },
  {
   "cell_type": "code",
   "execution_count": 23,
   "metadata": {},
   "outputs": [],
   "source": [
    "write.csv(final.pred, \"./predictions_feature_set_1.csv\", row.names=FALSE, quote=FALSE)"
   ]
  },
  {
   "cell_type": "code",
   "execution_count": null,
   "metadata": {},
   "outputs": [],
   "source": [
    "test_tokens_2 <- h2o.importFile(path = './test_feature_set_2.csv', header=TRUE, sep=\",\")"
   ]
  },
  {
   "cell_type": "code",
   "execution_count": null,
   "metadata": {},
   "outputs": [],
   "source": [
    "dim(test_tokens_2)"
   ]
  },
  {
   "cell_type": "code",
   "execution_count": null,
   "metadata": {},
   "outputs": [],
   "source": [
    "#test_data <- test_tokens_2[2:50001,]"
   ]
  },
  {
   "cell_type": "code",
   "execution_count": null,
   "metadata": {},
   "outputs": [],
   "source": [
    "pred <- h2o.predict(baseNN, test_data)\n",
    "final.pred<-as.vector(pred$predict)"
   ]
  },
  {
   "cell_type": "code",
   "execution_count": null,
   "metadata": {},
   "outputs": [],
   "source": [
    "write.csv(final.pred, \"./predictions_feature_set_2.csv\", row.names=FALSE, quote=FALSE)"
   ]
  }
 ],
 "metadata": {
  "kernelspec": {
   "display_name": "R",
   "language": "R",
   "name": "ir"
  },
  "language_info": {
   "codemirror_mode": "r",
   "file_extension": ".r",
   "mimetype": "text/x-r-source",
   "name": "R",
   "pygments_lexer": "r",
   "version": "3.5.3"
  }
 },
 "nbformat": 4,
 "nbformat_minor": 2
}
